{
 "cells": [
  {
   "cell_type": "code",
   "execution_count": 1,
   "metadata": {
    "collapsed": false
   },
   "outputs": [
    {
     "name": "stderr",
     "output_type": "stream",
     "text": [
      "Using TensorFlow backend.\n"
     ]
    }
   ],
   "source": [
    "from __future__ import print_function\n",
    "from keras.preprocessing.image import load_img, img_to_array\n",
    "from scipy.misc import imsave\n",
    "import numpy as np\n",
    "from scipy.optimize import fmin_l_bfgs_b\n",
    "import time\n",
    "import argparse"
   ]
  },
  {
   "cell_type": "code",
   "execution_count": 2,
   "metadata": {
    "collapsed": true
   },
   "outputs": [],
   "source": [
    "from keras.applications import vgg19\n",
    "from keras import backend as K"
   ]
  },
  {
   "cell_type": "code",
   "execution_count": 3,
   "metadata": {
    "collapsed": true
   },
   "outputs": [],
   "source": [
    "base_image_path = 'saak.jpg'\n",
    "style_image_path = 'style.jpg'\n",
    "iterations = 100\n",
    "total_variation_weight = 100.0\n",
    "content_weight = 5.0\n",
    "style_weight = 500.0"
   ]
  },
  {
   "cell_type": "code",
   "execution_count": 4,
   "metadata": {
    "collapsed": false
   },
   "outputs": [],
   "source": [
    "width, height = load_img(base_image_path).size\n",
    "img_nrows = 400\n",
    "img_ncols = int(width * img_nrows / height)"
   ]
  },
  {
   "cell_type": "code",
   "execution_count": 5,
   "metadata": {
    "collapsed": true
   },
   "outputs": [],
   "source": [
    "def preprocess_image(image_path):\n",
    "    img = load_img(base_image_path,target_size=(img_nrows,img_ncols))\n",
    "    img = img_to_array(img)\n",
    "    img = np.expand_dims(img,axis=0)\n",
    "    img = vgg19.preprocess_input(img)\n",
    "    return img"
   ]
  },
  {
   "cell_type": "code",
   "execution_count": 6,
   "metadata": {
    "collapsed": true,
    "scrolled": true
   },
   "outputs": [],
   "source": [
    "def deprocess_image(x):\n",
    "    if K.image_data_format() == 'channels_first':\n",
    "        x = x.reshape((3,img_nrows,img_ncols))\n",
    "        x = x.transpose((1,2,0))\n",
    "    else:\n",
    "        x = x.reshape((img_nrows,img_ncols,3))\n",
    "    \n",
    "    x[:, :, 0] += 103.939\n",
    "    x[:, :, 1] += 116.779\n",
    "    x[:, :, 2] += 123.68\n",
    "    \n",
    "#     BGR to RGB\n",
    "    x = x[:, :, ::-1]\n",
    "    x = np.clip(x, 0, 255).astype('uint8')\n",
    "    return x"
   ]
  },
  {
   "cell_type": "code",
   "execution_count": 7,
   "metadata": {
    "collapsed": false
   },
   "outputs": [],
   "source": [
    "base_image = K.variable(preprocess_image(base_image_path))\n",
    "style_image = K.variable(preprocess_image(style_image_path))"
   ]
  },
  {
   "cell_type": "code",
   "execution_count": 8,
   "metadata": {
    "collapsed": true
   },
   "outputs": [],
   "source": [
    "if K.image_data_format() == 'channels_first':\n",
    "    combination_image = K.placeholder((1,3,img_nrows,img_ncols))\n",
    "else:\n",
    "    combination_image = K.placeholder((1,img_nrows,img_ncols,3))"
   ]
  },
  {
   "cell_type": "code",
   "execution_count": 9,
   "metadata": {
    "collapsed": false
   },
   "outputs": [
    {
     "data": {
      "text/plain": [
       "<tf.Tensor 'concat:0' shape=(3, 400, 225, 3) dtype=float32>"
      ]
     },
     "execution_count": 9,
     "metadata": {},
     "output_type": "execute_result"
    }
   ],
   "source": [
    "input_tensor = K.concatenate([base_image,style_image,combination_image],axis=0)\n",
    "input_tensor"
   ]
  },
  {
   "cell_type": "code",
   "execution_count": 10,
   "metadata": {
    "collapsed": false
   },
   "outputs": [
    {
     "name": "stdout",
     "output_type": "stream",
     "text": [
      "Model loaded\n"
     ]
    }
   ],
   "source": [
    "model = vgg19.VGG19(input_tensor = input_tensor,weights = 'imagenet', include_top = False)\n",
    "print ('Model loaded')"
   ]
  },
  {
   "cell_type": "code",
   "execution_count": 11,
   "metadata": {
    "collapsed": false
   },
   "outputs": [
    {
     "data": {
      "text/plain": [
       "[<keras.engine.topology.InputLayer at 0x7f7e4b9317d0>,\n",
       " <keras.layers.convolutional.Conv2D at 0x7f7e4b931090>,\n",
       " <keras.layers.convolutional.Conv2D at 0x7f7e4b950210>,\n",
       " <keras.layers.pooling.MaxPooling2D at 0x7f7e4b8df7d0>,\n",
       " <keras.layers.convolutional.Conv2D at 0x7f7e4b931e90>,\n",
       " <keras.layers.convolutional.Conv2D at 0x7f7e4b9315d0>,\n",
       " <keras.layers.pooling.MaxPooling2D at 0x7f7e4b8bbd90>,\n",
       " <keras.layers.convolutional.Conv2D at 0x7f7e4b885d90>,\n",
       " <keras.layers.convolutional.Conv2D at 0x7f7e4b885910>,\n",
       " <keras.layers.convolutional.Conv2D at 0x7f7e4b830710>,\n",
       " <keras.layers.convolutional.Conv2D at 0x7f7e4b7d7750>,\n",
       " <keras.layers.pooling.MaxPooling2D at 0x7f7e4b7b4c50>,\n",
       " <keras.layers.convolutional.Conv2D at 0x7f7e4b75ff90>,\n",
       " <keras.layers.convolutional.Conv2D at 0x7f7e4b75f550>,\n",
       " <keras.layers.convolutional.Conv2D at 0x7f7e4b71b050>,\n",
       " <keras.layers.convolutional.Conv2D at 0x7f7e4b7049d0>,\n",
       " <keras.layers.pooling.MaxPooling2D at 0x7f7e4b6cf290>,\n",
       " <keras.layers.convolutional.Conv2D at 0x7f7e4b68ab10>,\n",
       " <keras.layers.convolutional.Conv2D at 0x7f7e4b66a050>,\n",
       " <keras.layers.convolutional.Conv2D at 0x7f7e4b5b7510>,\n",
       " <keras.layers.convolutional.Conv2D at 0x7f7e4b60d810>,\n",
       " <keras.layers.pooling.MaxPooling2D at 0x7f7e4b5f0350>]"
      ]
     },
     "execution_count": 11,
     "metadata": {},
     "output_type": "execute_result"
    }
   ],
   "source": [
    "model.layers"
   ]
  },
  {
   "cell_type": "code",
   "execution_count": 12,
   "metadata": {
    "collapsed": true
   },
   "outputs": [],
   "source": [
    "outputs_dict = dict([(layer.name, layer.output) for layer in model.layers])"
   ]
  },
  {
   "cell_type": "code",
   "execution_count": 13,
   "metadata": {
    "collapsed": false
   },
   "outputs": [
    {
     "data": {
      "text/plain": [
       "{'block1_conv1': <tf.Tensor 'block1_conv1/Relu:0' shape=(3, 400, 225, 64) dtype=float32>,\n",
       " 'block1_conv2': <tf.Tensor 'block1_conv2/Relu:0' shape=(3, 400, 225, 64) dtype=float32>,\n",
       " 'block1_pool': <tf.Tensor 'block1_pool/MaxPool:0' shape=(3, 200, 112, 64) dtype=float32>,\n",
       " 'block2_conv1': <tf.Tensor 'block2_conv1/Relu:0' shape=(3, 200, 112, 128) dtype=float32>,\n",
       " 'block2_conv2': <tf.Tensor 'block2_conv2/Relu:0' shape=(3, 200, 112, 128) dtype=float32>,\n",
       " 'block2_pool': <tf.Tensor 'block2_pool/MaxPool:0' shape=(3, 100, 56, 128) dtype=float32>,\n",
       " 'block3_conv1': <tf.Tensor 'block3_conv1/Relu:0' shape=(3, 100, 56, 256) dtype=float32>,\n",
       " 'block3_conv2': <tf.Tensor 'block3_conv2/Relu:0' shape=(3, 100, 56, 256) dtype=float32>,\n",
       " 'block3_conv3': <tf.Tensor 'block3_conv3/Relu:0' shape=(3, 100, 56, 256) dtype=float32>,\n",
       " 'block3_conv4': <tf.Tensor 'block3_conv4/Relu:0' shape=(3, 100, 56, 256) dtype=float32>,\n",
       " 'block3_pool': <tf.Tensor 'block3_pool/MaxPool:0' shape=(3, 50, 28, 256) dtype=float32>,\n",
       " 'block4_conv1': <tf.Tensor 'block4_conv1/Relu:0' shape=(3, 50, 28, 512) dtype=float32>,\n",
       " 'block4_conv2': <tf.Tensor 'block4_conv2/Relu:0' shape=(3, 50, 28, 512) dtype=float32>,\n",
       " 'block4_conv3': <tf.Tensor 'block4_conv3/Relu:0' shape=(3, 50, 28, 512) dtype=float32>,\n",
       " 'block4_conv4': <tf.Tensor 'block4_conv4/Relu:0' shape=(3, 50, 28, 512) dtype=float32>,\n",
       " 'block4_pool': <tf.Tensor 'block4_pool/MaxPool:0' shape=(3, 25, 14, 512) dtype=float32>,\n",
       " 'block5_conv1': <tf.Tensor 'block5_conv1/Relu:0' shape=(3, 25, 14, 512) dtype=float32>,\n",
       " 'block5_conv2': <tf.Tensor 'block5_conv2/Relu:0' shape=(3, 25, 14, 512) dtype=float32>,\n",
       " 'block5_conv3': <tf.Tensor 'block5_conv3/Relu:0' shape=(3, 25, 14, 512) dtype=float32>,\n",
       " 'block5_conv4': <tf.Tensor 'block5_conv4/Relu:0' shape=(3, 25, 14, 512) dtype=float32>,\n",
       " 'block5_pool': <tf.Tensor 'block5_pool/MaxPool:0' shape=(3, 12, 7, 512) dtype=float32>,\n",
       " 'input_1': <tf.Tensor 'concat:0' shape=(3, 400, 225, 3) dtype=float32>}"
      ]
     },
     "execution_count": 13,
     "metadata": {},
     "output_type": "execute_result"
    }
   ],
   "source": [
    "outputs_dict"
   ]
  },
  {
   "cell_type": "code",
   "execution_count": 14,
   "metadata": {
    "collapsed": true
   },
   "outputs": [],
   "source": [
    "def gram_matrix(x):\n",
    "    assert K.ndim(x) == 3\n",
    "    if K.image_data_format() == 'channels_first':\n",
    "        features = K.batch_flatten(x)\n",
    "    else:\n",
    "        features = K.batch_flatten(K.permute_dimensions(x,(2, 0, 1)))\n",
    "    gram = K.dot(features, K.transpose(features))\n",
    "    return gram"
   ]
  },
  {
   "cell_type": "code",
   "execution_count": 15,
   "metadata": {
    "collapsed": true
   },
   "outputs": [],
   "source": [
    "def style_loss(style, combination):\n",
    "    assert K.ndim(style) == 3\n",
    "    assert K.ndim(combination) == 3\n",
    "    S = gram_matrix(style)\n",
    "    C = gram_matrix(combination)\n",
    "    channels = 3\n",
    "    size = img_nrows * img_ncols\n",
    "    return K.sum(K.square(S - C))/(4.*(channels ** 2) * (size ** 2))"
   ]
  },
  {
   "cell_type": "code",
   "execution_count": 16,
   "metadata": {
    "collapsed": true
   },
   "outputs": [],
   "source": [
    "def content_loss(base,combination):\n",
    "    return K.sum(K.square(combination - base))"
   ]
  },
  {
   "cell_type": "code",
   "execution_count": 17,
   "metadata": {
    "collapsed": true
   },
   "outputs": [],
   "source": [
    "def total_variation_loss(x):\n",
    "    assert K.ndim(x) == 4\n",
    "    if K.image_data_format() == 'channels_first':\n",
    "        a = K.square(x[:, :, :img_nrows - 1, :img_ncols - 1] - x[:, :, 1:, :img_ncols - 1])\n",
    "        b = K.square(x[:, :, :img_nrows - 1, :img_ncols - 1] - x[:, :, :img_nrows - 1, 1:])\n",
    "    else:\n",
    "        a = K.square(x[:, :img_nrows - 1, :img_ncols - 1, :] - x[:, 1:, :img_ncols - 1, :])\n",
    "        b = K.square(x[:, :img_nrows - 1, :img_ncols - 1, :] - x[:, :img_nrows - 1, 1:, :])\n",
    "    return K.sum(K.pow(a + b, 1.25))"
   ]
  },
  {
   "cell_type": "code",
   "execution_count": 18,
   "metadata": {
    "collapsed": false
   },
   "outputs": [
    {
     "data": {
      "text/plain": [
       "<tf.Tensor 'block5_conv2/Relu:0' shape=(3, 25, 14, 512) dtype=float32>"
      ]
     },
     "execution_count": 18,
     "metadata": {},
     "output_type": "execute_result"
    }
   ],
   "source": [
    "loss = K.variable(0.)\n",
    "layer_features = outputs_dict['block5_conv2']\n",
    "layer_features"
   ]
  },
  {
   "cell_type": "code",
   "execution_count": 19,
   "metadata": {
    "collapsed": true
   },
   "outputs": [],
   "source": [
    "base_image_features = layer_features[0, :, :, :]\n",
    "combination_features = layer_features[2, :, :, :]\n",
    "loss += content_weight * content_loss(base_image_features, combination_features)"
   ]
  },
  {
   "cell_type": "code",
   "execution_count": 20,
   "metadata": {
    "collapsed": false
   },
   "outputs": [],
   "source": [
    "feature_layers = ['block1_conv1', 'block2_conv1', 'block3_conv1', 'block4_conv1', 'block5_conv1']\n",
    "for layer_name in feature_layers:\n",
    "    layer_features = outputs_dict[layer_name]\n",
    "    style_reference_features = layer_features[1, :, :, :]\n",
    "    combination_features = layer_features[2, :, :, :]\n",
    "    s1 = style_loss(style_reference_features, combination_features)\n",
    "    loss += (style_weight / len(feature_layers)) * s1\n",
    "loss += total_variation_weight * total_variation_loss(combination_image)"
   ]
  },
  {
   "cell_type": "code",
   "execution_count": 21,
   "metadata": {
    "collapsed": false
   },
   "outputs": [],
   "source": [
    "grads = K.gradients(loss, combination_image)"
   ]
  },
  {
   "cell_type": "code",
   "execution_count": 22,
   "metadata": {
    "collapsed": false
   },
   "outputs": [],
   "source": [
    "outputs = [loss]"
   ]
  },
  {
   "cell_type": "code",
   "execution_count": 23,
   "metadata": {
    "collapsed": true
   },
   "outputs": [],
   "source": [
    "if isinstance(grads, (list, tuple)):\n",
    "    outputs += grads\n",
    "else:\n",
    "    outputs.append(grads)"
   ]
  },
  {
   "cell_type": "code",
   "execution_count": 24,
   "metadata": {
    "collapsed": true
   },
   "outputs": [],
   "source": [
    "f_outputs = K.function([combination_image], outputs)"
   ]
  },
  {
   "cell_type": "code",
   "execution_count": 25,
   "metadata": {
    "collapsed": true
   },
   "outputs": [],
   "source": [
    "def eval_loss_and_grads(x):\n",
    "    if K.image_data_format() == 'channels_first':\n",
    "        x = x.reshape((1, 3, img_nrows, img_ncols))\n",
    "    else:\n",
    "        x = x.reshape((1, img_nrows, img_ncols, 3))\n",
    "    outs = f_outputs([x])\n",
    "    loss_value = outs[0]\n",
    "    if len(outs[1:]) == 1:\n",
    "        grad_values = outs[1].flatten().astype('float64')\n",
    "    else:\n",
    "        grad_values = np.array(outs[1:]).flatten.astype('float64')\n",
    "    return loss_value, grad_values"
   ]
  },
  {
   "cell_type": "code",
   "execution_count": 26,
   "metadata": {
    "collapsed": true
   },
   "outputs": [],
   "source": [
    "class Evaluator(object):\n",
    "    \n",
    "    def __init__(self):\n",
    "        self.loss_value = None\n",
    "        self.grads_values = None\n",
    "    \n",
    "    def loss(self, x):\n",
    "        assert self.loss_value is None\n",
    "        loss_value, grad_values = eval_loss_and_grads(x)\n",
    "        self.loss_value = loss_value\n",
    "        self.grads_values = grad_values\n",
    "        return self.loss_value\n",
    "    \n",
    "    def grads(self, x):\n",
    "        assert self.loss_value is not None\n",
    "        grad_values = np.copy(self.grads_values)\n",
    "        self.loss_value = None\n",
    "        self.grads_values = None\n",
    "        return grad_values"
   ]
  },
  {
   "cell_type": "code",
   "execution_count": 27,
   "metadata": {
    "collapsed": true
   },
   "outputs": [],
   "source": [
    "evaluator = Evaluator()"
   ]
  },
  {
   "cell_type": "code",
   "execution_count": 28,
   "metadata": {
    "collapsed": true
   },
   "outputs": [],
   "source": [
    "x = preprocess_image(base_image_path)"
   ]
  },
  {
   "cell_type": "code",
   "execution_count": 29,
   "metadata": {
    "collapsed": false
   },
   "outputs": [
    {
     "name": "stdout",
     "output_type": "stream",
     "text": [
      "Start of iteration  0\n",
      "1500227133.81\n",
      "Current loss value  2.59753e+10\n",
      "Image saved as  iteration_0.png\n",
      "Iteration 0 completed in 296s\n",
      "Start of iteration  1\n",
      "1500227429.82\n",
      "Current loss value  2.29153e+10\n",
      "Image saved as  iteration_1.png\n",
      "Iteration 1 completed in 273s\n",
      "Start of iteration  2\n",
      "1500227703.38\n",
      "Current loss value  2.14436e+10\n",
      "Image saved as  iteration_2.png\n",
      "Iteration 2 completed in 272s\n",
      "Start of iteration  3\n",
      "1500227975.8\n",
      "Current loss value  2.05545e+10\n",
      "Image saved as  iteration_3.png\n",
      "Iteration 3 completed in 272s\n",
      "Start of iteration  4\n",
      "1500228248.41\n",
      "Current loss value  1.97091e+10\n",
      "Image saved as  iteration_4.png\n",
      "Iteration 4 completed in 273s\n",
      "Start of iteration  5\n",
      "1500228521.42\n",
      "Current loss value  1.91542e+10\n",
      "Image saved as  iteration_5.png\n",
      "Iteration 5 completed in 271s\n",
      "Start of iteration  6\n",
      "1500228793.3\n",
      "Current loss value  1.87225e+10\n",
      "Image saved as  iteration_6.png\n",
      "Iteration 6 completed in 271s\n",
      "Start of iteration  7\n",
      "1500229065.26\n",
      "Current loss value  1.83922e+10\n",
      "Image saved as  iteration_7.png\n",
      "Iteration 7 completed in 272s\n",
      "Start of iteration  8\n",
      "1500229337.59\n",
      "Current loss value  1.80459e+10\n",
      "Image saved as  iteration_8.png\n",
      "Iteration 8 completed in 277s\n",
      "Start of iteration  9\n",
      "1500229614.95\n",
      "Current loss value  1.77295e+10\n",
      "Image saved as  iteration_9.png\n",
      "Iteration 9 completed in 285s\n",
      "Start of iteration  10\n",
      "1500229900.62\n",
      "Current loss value  1.74037e+10\n",
      "Image saved as  iteration_10.png\n",
      "Iteration 10 completed in 283s\n",
      "Start of iteration  11\n",
      "1500230183.86\n",
      "Current loss value  1.71592e+10\n",
      "Image saved as  iteration_11.png\n",
      "Iteration 11 completed in 282s\n",
      "Start of iteration  12\n",
      "1500230466.29\n",
      "Current loss value  1.695e+10\n",
      "Image saved as  iteration_12.png\n",
      "Iteration 12 completed in 280s\n",
      "Start of iteration  13\n",
      "1500230746.74\n",
      "Current loss value  1.67954e+10\n",
      "Image saved as  iteration_13.png\n",
      "Iteration 13 completed in 284s\n",
      "Start of iteration  14\n",
      "1500231031.04\n",
      "Current loss value  1.65775e+10\n",
      "Image saved as  iteration_14.png\n",
      "Iteration 14 completed in 281s\n",
      "Start of iteration  15\n",
      "1500231312.63\n",
      "Current loss value  1.63832e+10\n",
      "Image saved as  iteration_15.png\n",
      "Iteration 15 completed in 273s\n",
      "Start of iteration  16\n",
      "1500231586.27\n",
      "Current loss value  1.6233e+10\n",
      "Image saved as  iteration_16.png\n",
      "Iteration 16 completed in 319s\n",
      "Start of iteration  17\n",
      "1500231906.14\n",
      "Current loss value  1.60993e+10\n",
      "Image saved as  iteration_17.png\n",
      "Iteration 17 completed in 376s\n",
      "Start of iteration  18\n",
      "1500232282.21\n",
      "Current loss value  1.60149e+10\n",
      "Image saved as  iteration_18.png\n",
      "Iteration 18 completed in 330s\n",
      "Start of iteration  19\n",
      "1500232612.54\n",
      "Current loss value  1.59427e+10\n",
      "Image saved as  iteration_19.png\n",
      "Iteration 19 completed in 273s\n",
      "Start of iteration  20\n",
      "1500232886.44\n",
      "Current loss value  1.58494e+10\n",
      "Image saved as  iteration_20.png\n",
      "Iteration 20 completed in 274s\n",
      "Start of iteration  21\n",
      "1500233161.38\n",
      "Current loss value  1.57717e+10\n",
      "Image saved as  iteration_21.png\n",
      "Iteration 21 completed in 273s\n",
      "Start of iteration  22\n",
      "1500233434.45\n",
      "Current loss value  1.5715e+10\n",
      "Image saved as  iteration_22.png\n",
      "Iteration 22 completed in 272s\n",
      "Start of iteration  23\n",
      "1500233706.76\n",
      "Current loss value  1.56452e+10\n",
      "Image saved as  iteration_23.png\n",
      "Iteration 23 completed in 272s\n",
      "Start of iteration  24\n",
      "1500233978.8\n",
      "Current loss value  1.5573e+10\n",
      "Image saved as  iteration_24.png\n",
      "Iteration 24 completed in 271s\n",
      "Start of iteration  25\n",
      "1500234250.67\n",
      "Current loss value  1.55143e+10\n",
      "Image saved as  iteration_25.png\n",
      "Iteration 25 completed in 273s\n",
      "Start of iteration  26\n",
      "1500234523.85\n",
      "Current loss value  1.54748e+10\n",
      "Image saved as  iteration_26.png\n",
      "Iteration 26 completed in 272s\n",
      "Start of iteration  27\n",
      "1500234796.31\n",
      "Current loss value  1.54279e+10\n",
      "Image saved as  iteration_27.png\n",
      "Iteration 27 completed in 272s\n",
      "Start of iteration  28\n",
      "1500235068.69\n",
      "Current loss value  1.53894e+10\n",
      "Image saved as  iteration_28.png\n",
      "Iteration 28 completed in 272s\n",
      "Start of iteration  29\n",
      "1500235340.82\n",
      "Current loss value  1.53523e+10\n",
      "Image saved as  iteration_29.png\n",
      "Iteration 29 completed in 273s\n",
      "Start of iteration  30\n",
      "1500235613.86\n",
      "Current loss value  1.53126e+10\n",
      "Image saved as  iteration_30.png\n",
      "Iteration 30 completed in 272s\n",
      "Start of iteration  31\n",
      "1500235886.75\n",
      "Current loss value  1.52792e+10\n",
      "Image saved as  iteration_31.png\n",
      "Iteration 31 completed in 271s\n",
      "Start of iteration  32\n",
      "1500236158.68\n",
      "Current loss value  1.52366e+10\n",
      "Image saved as  iteration_32.png\n",
      "Iteration 32 completed in 272s\n",
      "Start of iteration  33\n",
      "1500236430.96\n",
      "Current loss value  1.52008e+10\n",
      "Image saved as  iteration_33.png\n",
      "Iteration 33 completed in 272s\n",
      "Start of iteration  34\n",
      "1500236703.41\n",
      "Current loss value  1.51714e+10\n",
      "Image saved as  iteration_34.png\n",
      "Iteration 34 completed in 273s\n",
      "Start of iteration  35\n",
      "1500236976.76\n",
      "Current loss value  1.51453e+10\n",
      "Image saved as  iteration_35.png\n",
      "Iteration 35 completed in 279s\n",
      "Start of iteration  36\n",
      "1500237256.21\n",
      "Current loss value  1.51127e+10\n",
      "Image saved as  iteration_36.png\n",
      "Iteration 36 completed in 289s\n",
      "Start of iteration  37\n",
      "1500237546.01\n",
      "Current loss value  1.50805e+10\n",
      "Image saved as  iteration_37.png\n",
      "Iteration 37 completed in 275s\n",
      "Start of iteration  38\n",
      "1500237821.84\n",
      "Current loss value  1.50565e+10\n",
      "Image saved as  iteration_38.png\n",
      "Iteration 38 completed in 283s\n",
      "Start of iteration  39\n",
      "1500238105.19\n",
      "Current loss value  1.50354e+10\n",
      "Image saved as  iteration_39.png\n",
      "Iteration 39 completed in 283s\n",
      "Start of iteration  40\n",
      "1500238388.24\n",
      "Current loss value  1.50145e+10\n",
      "Image saved as  iteration_40.png\n",
      "Iteration 40 completed in 283s\n",
      "Start of iteration  41\n",
      "1500238671.44\n",
      "Current loss value  1.49953e+10\n",
      "Image saved as  iteration_41.png\n",
      "Iteration 41 completed in 283s\n",
      "Start of iteration  42\n",
      "1500238954.45\n",
      "Current loss value  1.49736e+10\n",
      "Image saved as  iteration_42.png\n",
      "Iteration 42 completed in 283s\n",
      "Start of iteration  43\n",
      "1500239238.32\n",
      "Current loss value  1.49503e+10\n",
      "Image saved as  iteration_43.png\n",
      "Iteration 43 completed in 283s\n",
      "Start of iteration  44\n",
      "1500239521.63\n",
      "Current loss value  1.4931e+10\n",
      "Image saved as  iteration_44.png\n",
      "Iteration 44 completed in 283s\n",
      "Start of iteration  45\n",
      "1500239804.82\n",
      "Current loss value  1.49096e+10\n",
      "Image saved as  iteration_45.png\n",
      "Iteration 45 completed in 284s\n",
      "Start of iteration  46\n",
      "1500240089.26\n",
      "Current loss value  1.48891e+10\n",
      "Image saved as  iteration_46.png\n",
      "Iteration 46 completed in 284s\n",
      "Start of iteration  47\n",
      "1500240373.29\n",
      "Current loss value  1.48733e+10\n",
      "Image saved as  iteration_47.png\n",
      "Iteration 47 completed in 283s\n",
      "Start of iteration  48\n",
      "1500240656.38\n",
      "Current loss value  1.48572e+10\n",
      "Image saved as  iteration_48.png\n",
      "Iteration 48 completed in 283s\n",
      "Start of iteration  49\n",
      "1500240939.97\n",
      "Current loss value  1.48423e+10\n",
      "Image saved as  iteration_49.png\n",
      "Iteration 49 completed in 283s\n",
      "Start of iteration  50\n",
      "1500241223.56\n",
      "Current loss value  1.48217e+10\n",
      "Image saved as  iteration_50.png\n",
      "Iteration 50 completed in 283s\n",
      "Start of iteration  51\n",
      "1500241507.07\n",
      "Current loss value  1.48013e+10\n",
      "Image saved as  iteration_51.png\n",
      "Iteration 51 completed in 283s\n",
      "Start of iteration  52\n",
      "1500241790.44\n",
      "Current loss value  1.47874e+10\n",
      "Image saved as  iteration_52.png\n",
      "Iteration 52 completed in 283s\n",
      "Start of iteration  53\n",
      "1500242073.71\n",
      "Current loss value  1.47744e+10\n",
      "Image saved as  iteration_53.png\n",
      "Iteration 53 completed in 283s\n",
      "Start of iteration  54\n",
      "1500242356.84\n",
      "Current loss value  1.47566e+10\n",
      "Image saved as  iteration_54.png\n",
      "Iteration 54 completed in 283s\n",
      "Start of iteration  55\n",
      "1500242640.1\n",
      "Current loss value  1.47411e+10\n",
      "Image saved as  iteration_55.png\n",
      "Iteration 55 completed in 284s\n",
      "Start of iteration  56\n",
      "1500242924.47\n",
      "Current loss value  1.47291e+10\n",
      "Image saved as  iteration_56.png\n",
      "Iteration 56 completed in 283s\n",
      "Start of iteration  57\n",
      "1500243207.77\n",
      "Current loss value  1.47123e+10\n",
      "Image saved as  iteration_57.png\n",
      "Iteration 57 completed in 284s\n",
      "Start of iteration  58\n",
      "1500243491.81\n",
      "Current loss value  1.46975e+10\n",
      "Image saved as  iteration_58.png\n",
      "Iteration 58 completed in 284s\n",
      "Start of iteration  59\n",
      "1500243775.99\n",
      "Current loss value  1.46862e+10\n",
      "Image saved as  iteration_59.png\n",
      "Iteration 59 completed in 284s\n",
      "Start of iteration  60\n",
      "1500244060.0\n",
      "Current loss value  1.46746e+10\n",
      "Image saved as  iteration_60.png\n",
      "Iteration 60 completed in 284s\n",
      "Start of iteration  61\n",
      "1500244344.35\n",
      "Current loss value  1.46629e+10\n",
      "Image saved as  iteration_61.png\n",
      "Iteration 61 completed in 284s\n",
      "Start of iteration  62\n",
      "1500244629.21\n",
      "Current loss value  1.46465e+10\n",
      "Image saved as  iteration_62.png\n",
      "Iteration 62 completed in 283s\n",
      "Start of iteration  63\n",
      "1500244913.08\n",
      "Current loss value  1.46322e+10\n",
      "Image saved as  iteration_63.png\n",
      "Iteration 63 completed in 284s\n",
      "Start of iteration  64\n",
      "1500245197.21\n",
      "Current loss value  1.46213e+10\n",
      "Image saved as  iteration_64.png\n",
      "Iteration 64 completed in 297s\n",
      "Start of iteration  65\n",
      "1500245494.42\n",
      "Current loss value  1.4609e+10\n",
      "Image saved as  iteration_65.png\n",
      "Iteration 65 completed in 283s\n",
      "Start of iteration  66\n",
      "1500245778.13\n",
      "Current loss value  1.45972e+10\n",
      "Image saved as  iteration_66.png\n",
      "Iteration 66 completed in 283s\n",
      "Start of iteration  67\n",
      "1500246061.78\n",
      "Current loss value  1.45849e+10\n",
      "Image saved as  iteration_67.png\n",
      "Iteration 67 completed in 284s\n",
      "Start of iteration  68\n",
      "1500246346.52\n",
      "Current loss value  1.45721e+10\n",
      "Image saved as  iteration_68.png\n",
      "Iteration 68 completed in 285s\n",
      "Start of iteration  69\n",
      "1500246632.16\n",
      "Current loss value  1.45579e+10\n",
      "Image saved as  iteration_69.png\n",
      "Iteration 69 completed in 297s\n",
      "Start of iteration  70\n",
      "1500246929.52\n",
      "Current loss value  1.45439e+10\n",
      "Image saved as  iteration_70.png\n",
      "Iteration 70 completed in 283s\n",
      "Start of iteration  71\n",
      "1500247212.74\n",
      "Current loss value  1.45347e+10\n",
      "Image saved as  iteration_71.png\n",
      "Iteration 71 completed in 282s\n",
      "Start of iteration  72\n",
      "1500247495.6\n",
      "Current loss value  1.45217e+10\n",
      "Image saved as  iteration_72.png\n",
      "Iteration 72 completed in 283s\n",
      "Start of iteration  73\n",
      "1500247778.93\n",
      "Current loss value  1.45126e+10\n",
      "Image saved as  iteration_73.png\n",
      "Iteration 73 completed in 283s\n",
      "Start of iteration  74\n",
      "1500248062.01\n",
      "Current loss value  1.45041e+10\n",
      "Image saved as  iteration_74.png\n",
      "Iteration 74 completed in 283s\n",
      "Start of iteration  75\n",
      "1500248345.64\n",
      "Current loss value  1.4495e+10\n",
      "Image saved as  iteration_75.png\n",
      "Iteration 75 completed in 283s\n",
      "Start of iteration  76\n",
      "1500248628.95\n",
      "Current loss value  1.44867e+10\n",
      "Image saved as  iteration_76.png\n",
      "Iteration 76 completed in 282s\n",
      "Start of iteration  77\n",
      "1500248911.85\n",
      "Current loss value  1.44778e+10\n",
      "Image saved as  iteration_77.png\n",
      "Iteration 77 completed in 283s\n",
      "Start of iteration  78\n",
      "1500249194.95\n",
      "Current loss value  1.44704e+10\n",
      "Image saved as  iteration_78.png\n",
      "Iteration 78 completed in 296s\n",
      "Start of iteration  79\n",
      "1500249491.55\n",
      "Current loss value  1.44636e+10\n",
      "Image saved as  iteration_79.png\n",
      "Iteration 79 completed in 282s\n",
      "Start of iteration  80\n",
      "1500249774.52\n",
      "Current loss value  1.44558e+10\n",
      "Image saved as  iteration_80.png\n",
      "Iteration 80 completed in 283s\n",
      "Start of iteration  81\n",
      "1500250058.28\n",
      "Current loss value  1.44484e+10\n",
      "Image saved as  iteration_81.png\n",
      "Iteration 81 completed in 283s\n",
      "Start of iteration  82\n",
      "1500250341.71\n",
      "Current loss value  1.44392e+10\n",
      "Image saved as  iteration_82.png\n",
      "Iteration 82 completed in 284s\n",
      "Start of iteration  83\n",
      "1500250626.04\n",
      "Current loss value  1.4431e+10\n",
      "Image saved as  iteration_83.png\n",
      "Iteration 83 completed in 284s\n",
      "Start of iteration  84\n",
      "1500250910.3\n",
      "Current loss value  1.44199e+10\n",
      "Image saved as  iteration_84.png\n",
      "Iteration 84 completed in 283s\n",
      "Start of iteration  85\n",
      "1500251194.26\n",
      "Current loss value  1.44084e+10\n",
      "Image saved as  iteration_85.png\n",
      "Iteration 85 completed in 283s\n",
      "Start of iteration  86\n",
      "1500251478.09\n",
      "Current loss value  1.43974e+10\n",
      "Image saved as  iteration_86.png\n",
      "Iteration 86 completed in 284s\n",
      "Start of iteration  87\n",
      "1500251762.15\n",
      "Current loss value  1.43886e+10\n",
      "Image saved as  iteration_87.png\n",
      "Iteration 87 completed in 284s\n",
      "Start of iteration  88\n",
      "1500252046.94\n",
      "Current loss value  1.43803e+10\n",
      "Image saved as  iteration_88.png\n",
      "Iteration 88 completed in 287s\n",
      "Start of iteration  89\n",
      "1500252334.24\n",
      "Current loss value  1.43738e+10\n",
      "Image saved as  iteration_89.png\n",
      "Iteration 89 completed in 284s\n",
      "Start of iteration  90\n",
      "1500252618.25\n",
      "Current loss value  1.43675e+10\n",
      "Image saved as  iteration_90.png\n",
      "Iteration 90 completed in 283s\n",
      "Start of iteration  91\n",
      "1500252902.24\n",
      "Current loss value  1.4361e+10\n",
      "Image saved as  iteration_91.png\n",
      "Iteration 91 completed in 284s\n",
      "Start of iteration  92\n",
      "1500253186.63\n",
      "Current loss value  1.43556e+10\n",
      "Image saved as  iteration_92.png\n",
      "Iteration 92 completed in 283s\n",
      "Start of iteration  93\n",
      "1500253470.22\n",
      "Current loss value  1.43506e+10\n",
      "Image saved as  iteration_93.png\n",
      "Iteration 93 completed in 283s\n",
      "Start of iteration  94\n",
      "1500253753.89\n",
      "Current loss value  1.43454e+10\n",
      "Image saved as  iteration_94.png\n",
      "Iteration 94 completed in 284s\n",
      "Start of iteration  95\n",
      "1500254038.53\n",
      "Current loss value  1.43402e+10\n",
      "Image saved as  iteration_95.png\n",
      "Iteration 95 completed in 284s\n",
      "Start of iteration  96\n",
      "1500254322.79\n",
      "Current loss value  1.43346e+10\n",
      "Image saved as  iteration_96.png\n",
      "Iteration 96 completed in 284s\n",
      "Start of iteration  97\n",
      "1500254607.23\n",
      "Current loss value  1.43285e+10\n",
      "Image saved as  iteration_97.png\n",
      "Iteration 97 completed in 285s\n",
      "Start of iteration  98\n",
      "1500254892.26\n",
      "Current loss value  1.43226e+10\n",
      "Image saved as  iteration_98.png\n",
      "Iteration 98 completed in 284s\n",
      "Start of iteration  99\n",
      "1500255177.15\n",
      "Current loss value  1.43172e+10\n",
      "Image saved as  iteration_99.png\n",
      "Iteration 99 completed in 284s\n"
     ]
    }
   ],
   "source": [
    "for i in xrange(iterations):\n",
    "    print (\"Start of iteration \", i)\n",
    "    start_time = time.time()\n",
    "    print (start_time)\n",
    "    x, min_val, info = fmin_l_bfgs_b(evaluator.loss, x.flatten(), fprime = evaluator.grads, maxfun = 20)\n",
    "    print('Current loss value ', min_val)\n",
    "    img = deprocess_image(x.copy())\n",
    "    fname = 'iteration_%d.png' % i\n",
    "    imsave(fname, img)\n",
    "    end_time = time.time()\n",
    "    print('Image saved as ', fname)\n",
    "    print('Iteration %d completed in %ds' % (i, end_time - start_time))"
   ]
  },
  {
   "cell_type": "code",
   "execution_count": null,
   "metadata": {
    "collapsed": true
   },
   "outputs": [],
   "source": []
  },
  {
   "cell_type": "code",
   "execution_count": null,
   "metadata": {
    "collapsed": true
   },
   "outputs": [],
   "source": []
  },
  {
   "cell_type": "code",
   "execution_count": null,
   "metadata": {
    "collapsed": true
   },
   "outputs": [],
   "source": []
  },
  {
   "cell_type": "code",
   "execution_count": null,
   "metadata": {
    "collapsed": true
   },
   "outputs": [],
   "source": []
  },
  {
   "cell_type": "code",
   "execution_count": null,
   "metadata": {
    "collapsed": true
   },
   "outputs": [],
   "source": []
  },
  {
   "cell_type": "markdown",
   "metadata": {
    "collapsed": true
   },
   "source": [
    ";iuywsX a# "
   ]
  }
 ],
 "metadata": {
  "anaconda-cloud": {},
  "kernelspec": {
   "display_name": "Python [default]",
   "language": "python",
   "name": "python2"
  },
  "language_info": {
   "codemirror_mode": {
    "name": "ipython",
    "version": 2
   },
   "file_extension": ".py",
   "mimetype": "text/x-python",
   "name": "python",
   "nbconvert_exporter": "python",
   "pygments_lexer": "ipython2",
   "version": "2.7.12"
  }
 },
 "nbformat": 4,
 "nbformat_minor": 2
}
