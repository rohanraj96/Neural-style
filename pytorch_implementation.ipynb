{
 "cells": [
  {
   "cell_type": "code",
   "execution_count": 6,
   "metadata": {
    "collapsed": true
   },
   "outputs": [],
   "source": [
    "from __future__ import print_function\n",
    "\n",
    "import numpy as np\n",
    "\n",
    "import torch\n",
    "import torch.nn as nn\n",
    "from torch.autograd import Variable\n",
    "import torch.optim as optim\n",
    "\n",
    "import PIL\n",
    "from PIL import Image\n",
    "import matplotlib.pyplot as plt\n",
    "\n",
    "import torchvision.transforms as transforms\n",
    "import torchvision.models as models"
   ]
  },
  {
   "cell_type": "code",
   "execution_count": 7,
   "metadata": {
    "collapsed": false
   },
   "outputs": [],
   "source": [
    "use_cuda = torch.cuda.is_available()\n",
    "dtype = torch.cuda.FloatTensor if use_cuda else torch.FloatTensor"
   ]
  },
  {
   "cell_type": "code",
   "execution_count": 10,
   "metadata": {
    "collapsed": false
   },
   "outputs": [],
   "source": [
    "imsize = 200  # desired size of the output image\n",
    "\n",
    "loader = transforms.Compose([transforms.Scale(imsize),transforms.ToTensor()])  # transform it into a torch tensor\n",
    "\n",
    "\n",
    "def image_loader(image_name):\n",
    "    image = Image.open(image_name)\n",
    "    image = Variable(loader(image))\n",
    "    # fake batch dimension required to fit network's input dimensions\n",
    "    image = image.unsqueeze(0)\n",
    "    return image\n",
    "\n",
    "\n",
    "style = image_loader(\"style.jpg\").type(dtype)\n",
    "content = image_loader(\"saak.jpg\").type(dtype)\n",
    "\n",
    "assert style.size() == content.size(\n",
    "),\"we need to import style and content images of the same size\""
   ]
  },
  {
   "cell_type": "code",
   "execution_count": 11,
   "metadata": {
    "collapsed": false
   },
   "outputs": [],
   "source": [
    "unloader = transforms.ToPILImage()  # reconvert into PIL image\n",
    "\n",
    "\n",
    "def imshow(tensor):\n",
    "    image = tensor.clone().cpu()  # we clone the tensor to not do changes on it\n",
    "    image = image.view(3, 355, 200)  # remove the fake batch dimension\n",
    "    image = unloader(image)\n",
    "    plt.imshow(image)\n",
    "\n",
    "\n",
    "fig = plt.figure()\n",
    "\n",
    "plt.subplot(221)\n",
    "imshow(style.data)\n",
    "plt.subplot(222)\n",
    "imshow(content.data)"
   ]
  },
  {
   "cell_type": "code",
   "execution_count": 12,
   "metadata": {
    "collapsed": true
   },
   "outputs": [],
   "source": [
    "class ContentLoss(nn.Module):\n",
    "    def __init__(self, target, weight):\n",
    "        super(ContentLoss, self).__init__()\n",
    "        # we 'detach' the target content from the tree used\n",
    "        self.target = target.detach() * weight\n",
    "        # to dynamically compute the gradient: this is a stated value,\n",
    "        # not a variable. Otherwise the forward method of the criterion\n",
    "        # will throw an error.\n",
    "        self.weight = weight\n",
    "        self.criterion = nn.MSELoss()\n",
    "\n",
    "    def forward(self, input):\n",
    "        self.loss = self.criterion.forward(input * self.weight, self.target)\n",
    "        self.output = input\n",
    "        return self.output\n",
    "\n",
    "    def backward(self, retain_variables=True):\n",
    "        self.loss.backward(retain_variables=retain_variables)\n",
    "        return self.loss"
   ]
  },
  {
   "cell_type": "code",
   "execution_count": 13,
   "metadata": {
    "collapsed": true
   },
   "outputs": [],
   "source": [
    "class GramMatrix(nn.Module):\n",
    "    def forward(self, input):\n",
    "        a, b, c, d = input.size()  # a=batch size(=1)\n",
    "        # b=number of feature maps\n",
    "        # (c,d)=dimensions of a f. map (N=c*d)\n",
    "\n",
    "        features = input.view(a * b, c * d)  # resise F_XL into \\hat F_XL\n",
    "\n",
    "        G = torch.mm(features, features.t())  # compute the gram product\n",
    "\n",
    "        # we 'normalize' the values of the gram matrix\n",
    "        # by dividing by the number of element in each feature maps.\n",
    "        return G.div(a * b * c * d)"
   ]
  },
  {
   "cell_type": "code",
   "execution_count": 14,
   "metadata": {
    "collapsed": false
   },
   "outputs": [],
   "source": [
    "class StyleLoss(nn.Module):\n",
    "    def __init__(self, target, weight):\n",
    "        super(StyleLoss, self).__init__()\n",
    "        self.target = target.detach() * weight\n",
    "        self.weight = weight\n",
    "        self.gram = GramMatrix()\n",
    "        self.criterion = nn.MSELoss()\n",
    "\n",
    "    def forward(self, input):\n",
    "        self.output = input.clone()\n",
    "        self.G = self.gram.forward(input)\n",
    "        self.G.mul_(self.weight)\n",
    "        self.loss = self.criterion.forward(self.G, self.target)\n",
    "        return self.output\n",
    "\n",
    "    def backward(self, retain_variables=True):\n",
    "        self.loss.backward(retain_variables=retain_variables)\n",
    "        return self.loss"
   ]
  },
  {
   "cell_type": "code",
   "execution_count": 15,
   "metadata": {
    "collapsed": false
   },
   "outputs": [],
   "source": [
    "cnn = models.vgg19(pretrained=True).features\n",
    "\n",
    "# move it to the GPU if possible:\n",
    "if use_cuda:\n",
    "    cnn = cnn.cuda()"
   ]
  },
  {
   "cell_type": "code",
   "execution_count": 22,
   "metadata": {
    "collapsed": false
   },
   "outputs": [],
   "source": [
    "# desired depth layers to compute style/content losses :\n",
    "content_layers = ['conv_4']\n",
    "style_layers = ['conv_1', 'conv_2', 'conv_3', 'conv_4', 'conv_5']\n",
    "\n",
    "# just in order to have an iterable access to or list of content/syle losses\n",
    "content_losses = []\n",
    "style_losses = []\n",
    "\n",
    "model = nn.Sequential()  # the new Sequential module network\n",
    "gram = GramMatrix()  # we need a gram module in order to compute style targets\n",
    "\n",
    "# move these modules to the GPU if possible:\n",
    "if use_cuda:\n",
    "    model = model.cuda()\n",
    "    gram = gram.cuda()\n",
    "\n",
    "# weigth associated with content and style losses\n",
    "content_weight = 1\n",
    "style_weight = 100\n",
    "\n",
    "i = 1\n",
    "for layer in list(cnn):\n",
    "    if isinstance(layer, nn.Conv2d):\n",
    "        name = \"conv_\" + str(i)\n",
    "        model.add_module(name, layer)\n",
    "\n",
    "        if name in content_layers:\n",
    "            # add content loss:\n",
    "            target = model.forward(content).clone()\n",
    "            content_loss = ContentLoss(target, content_weight)\n",
    "            model.add_module(\"content_loss_\" + str(i), content_loss)\n",
    "            content_losses.append(content_loss)\n",
    "\n",
    "        if name in style_layers:\n",
    "            # add style loss:\n",
    "            target_feature = model.forward(style).clone()\n",
    "            target_feature_gram = gram.forward(target_feature)\n",
    "            style_loss = StyleLoss(target_feature_gram, style_weight)\n",
    "            model.add_module(\"style_loss_\" + str(i), style_loss)\n",
    "            style_losses.append(style_loss)\n",
    "\n",
    "    if isinstance(layer, nn.ReLU):\n",
    "        name = \"relu_\" + str(i)\n",
    "        model.add_module(name, layer)\n",
    "\n",
    "        if name in content_layers:\n",
    "            # add content loss:\n",
    "            target = model.forward(content).clone()\n",
    "            content_loss = ContentLoss(target, content_weight)\n",
    "            model.add_module(\"content_loss_\" + str(i), content_loss)\n",
    "            content_losses.append(content_loss)\n",
    "\n",
    "        if name in style_layers:\n",
    "            # add style loss:\n",
    "            target_feature = model.forward(style).clone()\n",
    "            target_feature_gram = gram.forward(target_feature)\n",
    "            style_loss = StyleLoss(target_feature_gram, style_weight)\n",
    "            model.add_module(\"style_loss_\" + str(i), style_loss)\n",
    "            style_losses.append(style_loss)\n",
    "\n",
    "        i += 1\n",
    "\n",
    "    if isinstance(layer, nn.MaxPool2d):\n",
    "        name = \"pool_\" + str(i)\n",
    "        model.add_module(name, layer)  # ***"
   ]
  },
  {
   "cell_type": "code",
   "execution_count": 17,
   "metadata": {
    "collapsed": true
   },
   "outputs": [],
   "source": [
    "input = image_loader(\"saak.jpg\").type(dtype)\n",
    "# if we want to fill it with a white noise:\n",
    "input.data = torch.randn(input.data.size()).type(dtype)"
   ]
  },
  {
   "cell_type": "code",
   "execution_count": 18,
   "metadata": {
    "collapsed": true
   },
   "outputs": [],
   "source": [
    "# this line to show that input is a parameter that requires a gradient\n",
    "input = nn.Parameter(input.data)\n",
    "optimizer = optim.LBFGS([input])"
   ]
  },
  {
   "cell_type": "code",
   "execution_count": 19,
   "metadata": {
    "collapsed": false,
    "scrolled": true
   },
   "outputs": [],
   "source": [
    "# run = [0]\n",
    "# while run[0] <= 300:\n",
    "    \n",
    "#     def closure():\n",
    "#         optimizer.zero_grad()\n",
    "#         model.forward(input)\n",
    "#         style_score = 0\n",
    "#         content_score = 0\n",
    "\n",
    "#         for sl in style_losses:\n",
    "#             style_score += sl.backward()\n",
    "#         for cl in content_losses:\n",
    "#             content_score += cl.backward()\n",
    "\n",
    "#         run[0]+=1\n",
    "#         if run[0] % 10 == 0:\n",
    "#             print(\"run \" + str(run) + \":\")\n",
    "#             print(style_score.data[0])\n",
    "#             print(content_score.data[0])\n",
    "\n",
    "#         return content_score+style_score\n",
    "\n",
    "#     optimizer.step(closure)"
   ]
  },
  {
   "cell_type": "code",
   "execution_count": 23,
   "metadata": {
    "collapsed": false,
    "scrolled": true
   },
   "outputs": [
    {
     "name": "stdout",
     "output_type": "stream",
     "text": [
      "run [10]:\n",
      "753.993530273\n",
      "28.661113739\n",
      "run [20]:\n",
      "1271.36523438\n",
      "35.8854942322\n",
      "run [30]:\n",
      "429.585510254\n",
      "23.3118133545\n",
      "run [40]:\n",
      "6.58154726028\n",
      "5.1734418869\n",
      "run [50]:\n",
      "0.907709717751\n",
      "1.91143381596\n",
      "run [60]:\n",
      "0.493104934692\n",
      "1.28428900242\n",
      "run [70]:\n",
      "0.358140349388\n",
      "1.08854651451\n",
      "run [80]:\n",
      "0.337747097015\n",
      "0.998204112053\n",
      "run [90]:\n",
      "0.32134655118\n",
      "0.956395328045\n",
      "run [100]:\n",
      "0.309200942516\n",
      "0.935674309731\n",
      "run [110]:\n",
      "0.295765370131\n",
      "0.939220488071\n",
      "run [120]:\n",
      "0.297958910465\n",
      "1.07874178886\n",
      "run [130]:\n",
      "0.302809536457\n",
      "0.916230142117\n",
      "run [140]:\n",
      "0.31856867671\n",
      "0.901469409466\n",
      "run [150]:\n",
      "24.3223285675\n",
      "7.16106748581\n",
      "run [160]:\n",
      "0.624561786652\n",
      "1.78745424747\n",
      "run [170]:\n",
      "0.358584910631\n",
      "1.12168979645\n",
      "run [180]:\n",
      "0.31228736043\n",
      "0.965371549129\n",
      "run [190]:\n",
      "0.305657029152\n",
      "0.917063891888\n",
      "run [200]:\n",
      "0.326346933842\n",
      "0.990983605385\n",
      "run [210]:\n",
      "4.41209363937\n",
      "4.21233606339\n",
      "run [220]:\n",
      "413.920776367\n",
      "22.3273239136\n",
      "run [230]:\n",
      "383.886169434\n",
      "23.7603130341\n",
      "run [240]:\n",
      "12.7577581406\n",
      "8.79744720459\n",
      "run [250]:\n",
      "1.20102834702\n",
      "2.91698646545\n",
      "run [260]:\n",
      "0.405655056238\n",
      "1.47168040276\n",
      "run [270]:\n",
      "0.326955080032\n",
      "1.11841094494\n",
      "run [280]:\n",
      "0.306260764599\n",
      "1.06577956676\n",
      "run [290]:\n",
      "32.428314209\n",
      "8.37716579437\n",
      "run [300]:\n",
      "101.045936584\n",
      "13.9974908829\n",
      "run [310]:\n",
      "101.38129425\n",
      "14.0051116943\n"
     ]
    },
    {
     "data": {
      "text/plain": [
       "\n",
       "( 0 , 0 ,.,.) = \n",
       "   1   1   1  ...    1   1   0\n",
       "   1   1   1  ...    1   1   1\n",
       "   1   1   1  ...    1   1   1\n",
       "     ...       ⋱       ...    \n",
       "   0   1   0  ...    1   1   1\n",
       "   0   1   1  ...    0   1   1\n",
       "   0   1   1  ...    1   1   1\n",
       "\n",
       "( 0 , 1 ,.,.) = \n",
       "   1   1   1  ...    1   1   1\n",
       "   1   1   1  ...    1   1   1\n",
       "   1   1   1  ...    1   1   1\n",
       "     ...       ⋱       ...    \n",
       "   1   0   1  ...    0   1   0\n",
       "   0   0   1  ...    0   1   1\n",
       "   1   1   1  ...    0   0   1\n",
       "\n",
       "( 0 , 2 ,.,.) = \n",
       "   1   0   1  ...    1   1   1\n",
       "   1   1   1  ...    1   0   0\n",
       "   1   1   1  ...    1   1   1\n",
       "     ...       ⋱       ...    \n",
       "   0   1   0  ...    0   0   0\n",
       "   0   0   1  ...    0   0   0\n",
       "   1   1   0  ...    0   0   0\n",
       "[torch.FloatTensor of size 1x3x355x200]"
      ]
     },
     "execution_count": 23,
     "metadata": {},
     "output_type": "execute_result"
    }
   ],
   "source": [
    "run = [0]\n",
    "while run[0] <= 300:\n",
    "\n",
    "    def closure():\n",
    "        # correct the values of updated input image\n",
    "        input.data.clamp_(0, 1)\n",
    "\n",
    "        optimizer.zero_grad()\n",
    "        model.forward(input)\n",
    "        style_score = 0\n",
    "        content_score = 0\n",
    "\n",
    "        for sl in style_losses:\n",
    "            style_score += sl.backward()\n",
    "        for cl in content_losses:\n",
    "            content_score += cl.backward()\n",
    "\n",
    "        run[0]+=1\n",
    "        if run[0] % 10 == 0:\n",
    "            print(\"run \" + str(run) + \":\")\n",
    "            print(style_score.data[0])\n",
    "            print(content_score.data[0])\n",
    "\n",
    "        return content_score+style_score\n",
    "\n",
    "    optimizer.step(closure)\n",
    "\n",
    "# a last correction...\n",
    "input.data.clamp_(0, 1)"
   ]
  },
  {
   "cell_type": "code",
   "execution_count": 24,
   "metadata": {
    "collapsed": false
   },
   "outputs": [
    {
     "data": {
      "image/png": "[encoded data removed]",
      "text/plain": [
       "<matplotlib.figure.Figure at 0x7f4da2665390>"
      ]
     },
     "metadata": {},
     "output_type": "display_data"
    }
   ],
   "source": [
    "input.data\n",
    "plt.subplot(224)\n",
    "imshow(input.data)\n",
    "plt.show()"
   ]
  },
  {
   "cell_type": "code",
   "execution_count": null,
   "metadata": {
    "collapsed": true
   },
   "outputs": [],
   "source": []
  },
  {
   "cell_type": "code",
   "execution_count": null,
   "metadata": {
    "collapsed": true
   },
   "outputs": [],
   "source": []
  },
  {
   "cell_type": "code",
   "execution_count": null,
   "metadata": {
    "collapsed": true
   },
   "outputs": [],
   "source": []
  },
  {
   "cell_type": "code",
   "execution_count": null,
   "metadata": {
    "collapsed": true
   },
   "outputs": [],
   "source": []
  },
  {
   "cell_type": "code",
   "execution_count": null,
   "metadata": {
    "collapsed": true
   },
   "outputs": [],
   "source": []
  },
  {
   "cell_type": "code",
   "execution_count": null,
   "metadata": {
    "collapsed": true
   },
   "outputs": [],
   "source": []
  }
 ],
 "metadata": {
  "anaconda-cloud": {},
  "kernelspec": {
   "display_name": "Python [conda root]",
   "language": "python",
   "name": "conda-root-py"
  },
  "language_info": {
   "codemirror_mode": {
    "name": "ipython",
    "version": 2
   },
   "file_extension": ".py",
   "mimetype": "text/x-python",
   "name": "python",
   "nbconvert_exporter": "python",
   "pygments_lexer": "ipython2",
   "version": "2.7.12"
  }
 },
 "nbformat": 4,
 "nbformat_minor": 1
}
